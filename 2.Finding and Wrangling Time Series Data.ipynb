{
 "metadata": {
  "language_info": {
   "codemirror_mode": {
    "name": "ipython",
    "version": 3
   },
   "file_extension": ".py",
   "mimetype": "text/x-python",
   "name": "python",
   "nbconvert_exporter": "python",
   "pygments_lexer": "ipython3",
   "version": "3.8.5"
  },
  "orig_nbformat": 4,
  "kernelspec": {
   "name": "python3",
   "display_name": "Python 3.8.5 64-bit ('base': conda)"
  },
  "interpreter": {
   "hash": "b3ba2566441a7c06988d0923437866b63cedc61552a5af99d1f4fb67d367b25f"
  }
 },
 "nbformat": 4,
 "nbformat_minor": 2,
 "cells": [
  {
   "cell_type": "code",
   "execution_count": 1,
   "metadata": {},
   "outputs": [],
   "source": [
    "import pandas as pd"
   ]
  },
  {
   "cell_type": "code",
   "execution_count": 7,
   "metadata": {},
   "outputs": [
    {
     "output_type": "execute_result",
     "data": {
      "text/plain": [
       "   user userStats  yearJoined\n",
       "0     0    silver        2014\n",
       "1     1    silver        2015\n",
       "2     2    silver        2016"
      ],
      "text/html": "<div>\n<style scoped>\n    .dataframe tbody tr th:only-of-type {\n        vertical-align: middle;\n    }\n\n    .dataframe tbody tr th {\n        vertical-align: top;\n    }\n\n    .dataframe thead th {\n        text-align: right;\n    }\n</style>\n<table border=\"1\" class=\"dataframe\">\n  <thead>\n    <tr style=\"text-align: right;\">\n      <th></th>\n      <th>user</th>\n      <th>userStats</th>\n      <th>yearJoined</th>\n    </tr>\n  </thead>\n  <tbody>\n    <tr>\n      <th>0</th>\n      <td>0</td>\n      <td>silver</td>\n      <td>2014</td>\n    </tr>\n    <tr>\n      <th>1</th>\n      <td>1</td>\n      <td>silver</td>\n      <td>2015</td>\n    </tr>\n    <tr>\n      <th>2</th>\n      <td>2</td>\n      <td>silver</td>\n      <td>2016</td>\n    </tr>\n  </tbody>\n</table>\n</div>"
     },
     "metadata": {},
     "execution_count": 7
    }
   ],
   "source": [
    "YearJoined = pd.read_csv('./data/year_joined.csv')\n",
    "YearJoined[:3]"
   ]
  },
  {
   "cell_type": "code",
   "execution_count": 9,
   "metadata": {},
   "outputs": [
    {
     "output_type": "execute_result",
     "data": {
      "text/plain": [
       "           yearJoined\n",
       "userStats            \n",
       "1                1000"
      ],
      "text/html": "<div>\n<style scoped>\n    .dataframe tbody tr th:only-of-type {\n        vertical-align: middle;\n    }\n\n    .dataframe tbody tr th {\n        vertical-align: top;\n    }\n\n    .dataframe thead th {\n        text-align: right;\n    }\n</style>\n<table border=\"1\" class=\"dataframe\">\n  <thead>\n    <tr style=\"text-align: right;\">\n      <th></th>\n      <th>yearJoined</th>\n    </tr>\n    <tr>\n      <th>userStats</th>\n      <th></th>\n    </tr>\n  </thead>\n  <tbody>\n    <tr>\n      <th>1</th>\n      <td>1000</td>\n    </tr>\n  </tbody>\n</table>\n</div>"
     },
     "metadata": {},
     "execution_count": 9
    }
   ],
   "source": [
    "YearJoined.groupby('user').count().groupby('userStats').count()"
   ]
  },
  {
   "cell_type": "code",
   "execution_count": 80,
   "metadata": {},
   "outputs": [
    {
     "output_type": "stream",
     "name": "stdout",
     "text": [
      "(25488, 3)\n"
     ]
    },
    {
     "output_type": "execute_result",
     "data": {
      "text/plain": [
       "   emailsOpened  user                 week\n",
       "0           3.0   1.0  2015-06-29 00:00:00\n",
       "1           2.0   1.0  2015-07-13 00:00:00\n",
       "2           2.0   1.0  2015-07-20 00:00:00"
      ],
      "text/html": "<div>\n<style scoped>\n    .dataframe tbody tr th:only-of-type {\n        vertical-align: middle;\n    }\n\n    .dataframe tbody tr th {\n        vertical-align: top;\n    }\n\n    .dataframe thead th {\n        text-align: right;\n    }\n</style>\n<table border=\"1\" class=\"dataframe\">\n  <thead>\n    <tr style=\"text-align: right;\">\n      <th></th>\n      <th>emailsOpened</th>\n      <th>user</th>\n      <th>week</th>\n    </tr>\n  </thead>\n  <tbody>\n    <tr>\n      <th>0</th>\n      <td>3.0</td>\n      <td>1.0</td>\n      <td>2015-06-29 00:00:00</td>\n    </tr>\n    <tr>\n      <th>1</th>\n      <td>2.0</td>\n      <td>1.0</td>\n      <td>2015-07-13 00:00:00</td>\n    </tr>\n    <tr>\n      <th>2</th>\n      <td>2.0</td>\n      <td>1.0</td>\n      <td>2015-07-20 00:00:00</td>\n    </tr>\n  </tbody>\n</table>\n</div>"
     },
     "metadata": {},
     "execution_count": 80
    }
   ],
   "source": [
    "emails = pd.read_csv('./data/emails.csv')\n",
    "print(email.shape)\n",
    "emails[:3]"
   ]
  },
  {
   "cell_type": "code",
   "execution_count": 81,
   "metadata": {},
   "outputs": [
    {
     "output_type": "execute_result",
     "data": {
      "text/plain": [
       "Empty DataFrame\n",
       "Columns: [emailsOpened, user, week]\n",
       "Index: []"
      ],
      "text/html": "<div>\n<style scoped>\n    .dataframe tbody tr th:only-of-type {\n        vertical-align: middle;\n    }\n\n    .dataframe tbody tr th {\n        vertical-align: top;\n    }\n\n    .dataframe thead th {\n        text-align: right;\n    }\n</style>\n<table border=\"1\" class=\"dataframe\">\n  <thead>\n    <tr style=\"text-align: right;\">\n      <th></th>\n      <th>emailsOpened</th>\n      <th>user</th>\n      <th>week</th>\n    </tr>\n  </thead>\n  <tbody>\n  </tbody>\n</table>\n</div>"
     },
     "metadata": {},
     "execution_count": 81
    }
   ],
   "source": [
    "emails[emails.emailsOpened < 1]"
   ]
  },
  {
   "cell_type": "code",
   "execution_count": 82,
   "metadata": {},
   "outputs": [
    {
     "output_type": "execute_result",
     "data": {
      "text/plain": [
       "       emailsOpened   user                 week\n",
       "25464           1.0  998.0  2017-12-04 00:00:00\n",
       "25465           3.0  998.0  2017-12-11 00:00:00\n",
       "25466           3.0  998.0  2017-12-18 00:00:00\n",
       "25467           3.0  998.0  2018-01-01 00:00:00\n",
       "25468           3.0  998.0  2018-01-08 00:00:00\n",
       "25469           2.0  998.0  2018-01-15 00:00:00\n",
       "25470           3.0  998.0  2018-01-22 00:00:00\n",
       "25471           2.0  998.0  2018-01-29 00:00:00\n",
       "25472           3.0  998.0  2018-02-05 00:00:00\n",
       "25473           3.0  998.0  2018-02-12 00:00:00"
      ],
      "text/html": "<div>\n<style scoped>\n    .dataframe tbody tr th:only-of-type {\n        vertical-align: middle;\n    }\n\n    .dataframe tbody tr th {\n        vertical-align: top;\n    }\n\n    .dataframe thead th {\n        text-align: right;\n    }\n</style>\n<table border=\"1\" class=\"dataframe\">\n  <thead>\n    <tr style=\"text-align: right;\">\n      <th></th>\n      <th>emailsOpened</th>\n      <th>user</th>\n      <th>week</th>\n    </tr>\n  </thead>\n  <tbody>\n    <tr>\n      <th>25464</th>\n      <td>1.0</td>\n      <td>998.0</td>\n      <td>2017-12-04 00:00:00</td>\n    </tr>\n    <tr>\n      <th>25465</th>\n      <td>3.0</td>\n      <td>998.0</td>\n      <td>2017-12-11 00:00:00</td>\n    </tr>\n    <tr>\n      <th>25466</th>\n      <td>3.0</td>\n      <td>998.0</td>\n      <td>2017-12-18 00:00:00</td>\n    </tr>\n    <tr>\n      <th>25467</th>\n      <td>3.0</td>\n      <td>998.0</td>\n      <td>2018-01-01 00:00:00</td>\n    </tr>\n    <tr>\n      <th>25468</th>\n      <td>3.0</td>\n      <td>998.0</td>\n      <td>2018-01-08 00:00:00</td>\n    </tr>\n    <tr>\n      <th>25469</th>\n      <td>2.0</td>\n      <td>998.0</td>\n      <td>2018-01-15 00:00:00</td>\n    </tr>\n    <tr>\n      <th>25470</th>\n      <td>3.0</td>\n      <td>998.0</td>\n      <td>2018-01-22 00:00:00</td>\n    </tr>\n    <tr>\n      <th>25471</th>\n      <td>2.0</td>\n      <td>998.0</td>\n      <td>2018-01-29 00:00:00</td>\n    </tr>\n    <tr>\n      <th>25472</th>\n      <td>3.0</td>\n      <td>998.0</td>\n      <td>2018-02-05 00:00:00</td>\n    </tr>\n    <tr>\n      <th>25473</th>\n      <td>3.0</td>\n      <td>998.0</td>\n      <td>2018-02-12 00:00:00</td>\n    </tr>\n  </tbody>\n</table>\n</div>"
     },
     "metadata": {},
     "execution_count": 82
    }
   ],
   "source": [
    "emails[emails.user == 998][:10]"
   ]
  },
  {
   "cell_type": "code",
   "execution_count": 83,
   "metadata": {},
   "outputs": [
    {
     "output_type": "execute_result",
     "data": {
      "text/plain": [
       "25.0"
      ]
     },
     "metadata": {},
     "execution_count": 83
    }
   ],
   "source": [
    "import datetime\n",
    "\n",
    "emails.week = [datetime.datetime.strptime(x,'%Y-%m-%d %H:%M:%S') for x in emails.week]\n",
    "\n",
    "(max(emails[emails.user == 998].week) - min(emails[emails.user == 998].week)).days/7"
   ]
  },
  {
   "cell_type": "code",
   "execution_count": 84,
   "metadata": {},
   "outputs": [
    {
     "output_type": "execute_result",
     "data": {
      "text/plain": [
       "(24, 3)"
      ]
     },
     "metadata": {},
     "execution_count": 84
    }
   ],
   "source": [
    "emails[emails.user == 998].shape"
   ]
  },
  {
   "cell_type": "code",
   "execution_count": 87,
   "metadata": {},
   "outputs": [],
   "source": [
    "complete_idx = pd.MultiIndex.from_product((set(emails.week),set(emails.user)))\n",
    "\n",
    "# index 설정하는거 익숙해지자\n",
    "all_email = emails.set_index(['week', 'user']).reindex(complete_idx, fill_value=0).reset_index()\n",
    "all_email.columns = ['week', 'user', 'EmailsOpened']"
   ]
  },
  {
   "cell_type": "code",
   "execution_count": 89,
   "metadata": {},
   "outputs": [
    {
     "output_type": "execute_result",
     "data": {
      "text/plain": [
       "            week   user  EmailsOpened\n",
       "84083 2015-02-09  998.0           0.0\n",
       "2155  2015-02-16  998.0           0.0\n",
       "55516 2015-02-23  998.0           0.0\n",
       "51743 2015-03-02  998.0           0.0\n",
       "15091 2015-03-09  998.0           0.0\n",
       "...          ...    ...           ...\n",
       "85700 2018-04-30  998.0           3.0\n",
       "70069 2018-05-07  998.0           3.0\n",
       "7545  2018-05-14  998.0           3.0\n",
       "11318 2018-05-21  998.0           3.0\n",
       "57133 2018-05-28  998.0           3.0\n",
       "\n",
       "[173 rows x 3 columns]"
      ],
      "text/html": "<div>\n<style scoped>\n    .dataframe tbody tr th:only-of-type {\n        vertical-align: middle;\n    }\n\n    .dataframe tbody tr th {\n        vertical-align: top;\n    }\n\n    .dataframe thead th {\n        text-align: right;\n    }\n</style>\n<table border=\"1\" class=\"dataframe\">\n  <thead>\n    <tr style=\"text-align: right;\">\n      <th></th>\n      <th>week</th>\n      <th>user</th>\n      <th>EmailsOpened</th>\n    </tr>\n  </thead>\n  <tbody>\n    <tr>\n      <th>84083</th>\n      <td>2015-02-09</td>\n      <td>998.0</td>\n      <td>0.0</td>\n    </tr>\n    <tr>\n      <th>2155</th>\n      <td>2015-02-16</td>\n      <td>998.0</td>\n      <td>0.0</td>\n    </tr>\n    <tr>\n      <th>55516</th>\n      <td>2015-02-23</td>\n      <td>998.0</td>\n      <td>0.0</td>\n    </tr>\n    <tr>\n      <th>51743</th>\n      <td>2015-03-02</td>\n      <td>998.0</td>\n      <td>0.0</td>\n    </tr>\n    <tr>\n      <th>15091</th>\n      <td>2015-03-09</td>\n      <td>998.0</td>\n      <td>0.0</td>\n    </tr>\n    <tr>\n      <th>...</th>\n      <td>...</td>\n      <td>...</td>\n      <td>...</td>\n    </tr>\n    <tr>\n      <th>85700</th>\n      <td>2018-04-30</td>\n      <td>998.0</td>\n      <td>3.0</td>\n    </tr>\n    <tr>\n      <th>70069</th>\n      <td>2018-05-07</td>\n      <td>998.0</td>\n      <td>3.0</td>\n    </tr>\n    <tr>\n      <th>7545</th>\n      <td>2018-05-14</td>\n      <td>998.0</td>\n      <td>3.0</td>\n    </tr>\n    <tr>\n      <th>11318</th>\n      <td>2018-05-21</td>\n      <td>998.0</td>\n      <td>3.0</td>\n    </tr>\n    <tr>\n      <th>57133</th>\n      <td>2018-05-28</td>\n      <td>998.0</td>\n      <td>3.0</td>\n    </tr>\n  </tbody>\n</table>\n<p>173 rows × 3 columns</p>\n</div>"
     },
     "metadata": {},
     "execution_count": 89
    }
   ],
   "source": [
    "all_email[all_email.user == 998].sort_values('week')"
   ]
  },
  {
   "cell_type": "code",
   "execution_count": 90,
   "metadata": {},
   "outputs": [],
   "source": [
    "cutoff_dates = emails.groupby('user').week.agg(['min', 'max']).reset_index()"
   ]
  },
  {
   "cell_type": "code",
   "execution_count": 92,
   "metadata": {
    "tags": []
   },
   "outputs": [],
   "source": [
    "import warnings\n",
    "warnings.filterwarnings('ignore')\n",
    "\n",
    "for _, row in cutoff_dates.iterrows():\n",
    "    user = row['user']\n",
    "    start_date = row['min']\n",
    "    end_date = row['max']\n",
    "\n",
    "    all_email.drop(all_email[all_email.user == user][all_email.week < start_date].index, inplace=True)\n",
    "    all_email.drop(all_email[all_email.user == user][all_email.week > end_date].index, inplace=True)"
   ]
  }
 ]
}